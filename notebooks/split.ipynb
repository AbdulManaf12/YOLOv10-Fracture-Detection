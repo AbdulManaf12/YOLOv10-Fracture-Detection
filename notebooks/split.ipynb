{
 "cells": [
  {
   "cell_type": "code",
   "execution_count": 1,
   "id": "edf1ecb0",
   "metadata": {},
   "outputs": [],
   "source": [
    "import torch\n",
    "from IPython.display import Image\n",
    "import os\n",
    "import shutil\n",
    "from random import choice\n",
    "import wandb"
   ]
  },
  {
   "cell_type": "code",
   "execution_count": null,
   "id": "b136b62f",
   "metadata": {},
   "outputs": [],
   "source": [
    "img_train_path = 'data/GRAZPEDWRI-DX/data/images/train'\n",
    "img_test_path = 'data/GRAZPEDWRI-DX/data/images/test'\n",
    "img_valid_path = 'data/GRAZPEDWRI-DX/data/images/valid'\n",
    "img_label_path = r'D:\\FYP\\Dataset\\Images and labels'\n",
    "\n",
    "imgs = []\n",
    "vectors = []\n",
    "\n",
    "train_ratio = 0.75\n",
    "valid_ratio = 0.2\n",
    "test_ratio = 0.05\n",
    "\n",
    "for (dir_name, dirs, files) in os.walk(img_label_path):\n",
    "    for filename in files:\n",
    "        if filename.endswith('.txt'):\n",
    "            vectors.append(filename)\n",
    "        else:\n",
    "            imgs.append(filename)\n",
    "            \n",
    "num_train = int(len(imgs) * train_ratio)\n",
    "num_valid = int(len(imgs) * valid_ratio)\n",
    "num_test = int(len(imgs) * test_ratio)\n",
    "\n",
    "print(f'Training Samples: {num_train}, Testing Samples: {num_test}, Validation Samples: {num_valid}')"
   ]
  },
  {
   "cell_type": "code",
   "execution_count": 10,
   "id": "b4599e89",
   "metadata": {},
   "outputs": [],
   "source": [
    "label_train_path = 'data/GRAZPEDWRI-DX/data/labels/train'\n",
    "label_valid_path = 'data/GRAZPEDWRI-DX/data/labels/valid'\n",
    "label_test_path = 'data/GRAZPEDWRI-DX/data/labels/test'\n",
    "\n",
    "for i in range(num_train):\n",
    "    img = choice(imgs)\n",
    "    xml = vectors[imgs.index(img)]\n",
    "    \n",
    "    shutil.copy(os.path.join(img_label_path, img), os.path.join(img_train_path, img))\n",
    "    shutil.copy(os.path.join(img_label_path, xml), os.path.join(label_train_path, xml))\n",
    "    \n",
    "    imgs.remove(img)\n",
    "    vectors.remove(xml)"
   ]
  },
  {
   "cell_type": "code",
   "execution_count": 11,
   "id": "fd111001",
   "metadata": {},
   "outputs": [],
   "source": [
    "for i in range(num_valid):\n",
    "    img = choice(imgs)\n",
    "    xml = vectors[imgs.index(img)]\n",
    "    \n",
    "    shutil.copy(os.path.join(img_label_path, img), os.path.join(img_valid_path, img))\n",
    "    shutil.copy(os.path.join(img_label_path, xml), os.path.join(label_valid_path, xml))\n",
    "    \n",
    "    imgs.remove(img)\n",
    "    vectors.remove(xml)\n",
    "    \n",
    "for i in range(num_test):\n",
    "    img = choice(imgs)\n",
    "    xml = vectors[imgs.index(img)]\n",
    "    \n",
    "    shutil.copy(os.path.join(img_label_path, img), os.path.join(img_test_path, img))\n",
    "    shutil.copy(os.path.join(img_label_path, xml), os.path.join(label_test_path, xml))\n",
    "    \n",
    "    imgs.remove(img)\n",
    "    vectors.remove(xml)"
   ]
  },
  {
   "cell_type": "code",
   "execution_count": null,
   "id": "998e1752",
   "metadata": {},
   "outputs": [],
   "source": []
  }
 ],
 "metadata": {
  "kernelspec": {
   "display_name": "Python 3 (ipykernel)",
   "language": "python",
   "name": "python3"
  },
  "language_info": {
   "codemirror_mode": {
    "name": "ipython",
    "version": 3
   },
   "file_extension": ".py",
   "mimetype": "text/x-python",
   "name": "python",
   "nbconvert_exporter": "python",
   "pygments_lexer": "ipython3",
   "version": "3.11.7"
  }
 },
 "nbformat": 4,
 "nbformat_minor": 5
}
